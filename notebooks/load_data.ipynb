{
  "nbformat": 4,
  "nbformat_minor": 0,
  "metadata": {
    "colab": {
      "name": "load_data.ipynb",
      "provenance": [],
      "authorship_tag": "ABX9TyPd46wl6gAR5zLlh/DqiGiN",
      "include_colab_link": true
    },
    "kernelspec": {
      "name": "python3",
      "display_name": "Python 3"
    }
  },
  "cells": [
    {
      "cell_type": "markdown",
      "metadata": {
        "id": "view-in-github",
        "colab_type": "text"
      },
      "source": [
        "<a href=\"https://colab.research.google.com/github/sbooeshaghi/SBA-PPP-Loan-Data/blob/master/notebooks/load_data.ipynb\" target=\"_parent\"><img src=\"https://colab.research.google.com/assets/colab-badge.svg\" alt=\"Open In Colab\"/></a>"
      ]
    },
    {
      "cell_type": "code",
      "metadata": {
        "id": "GSIW5KA_AIuV",
        "colab_type": "code",
        "colab": {
          "base_uri": "https://localhost:8080/",
          "height": 153
        },
        "outputId": "c698dffb-4233-4415-a078-242332630200"
      },
      "source": [
        "%%time\n",
        "!git clone https://github.com/sbooeshaghi/SBA-PPP-Loan-Data.git"
      ],
      "execution_count": 3,
      "outputs": [
        {
          "output_type": "stream",
          "text": [
            "Cloning into 'SBA-PPP-Loan-Data'...\n",
            "remote: Enumerating objects: 182, done.\u001b[K\n",
            "remote: Total 182 (delta 0), reused 0 (delta 0), pack-reused 182\u001b[K\n",
            "Receiving objects: 100% (182/182), 181.79 MiB | 31.28 MiB/s, done.\n",
            "Resolving deltas: 100% (106/106), done.\n",
            "Checking out files: 100% (175/175), done.\n",
            "CPU times: user 90.1 ms, sys: 18.8 ms, total: 109 ms\n",
            "Wall time: 15.1 s\n"
          ],
          "name": "stdout"
        }
      ]
    },
    {
      "cell_type": "code",
      "metadata": {
        "id": "ii-UHpEeA60O",
        "colab_type": "code",
        "colab": {
          "base_uri": "https://localhost:8080/",
          "height": 51
        },
        "outputId": "a878a630-050a-44c3-81ef-4af89fe322ea"
      },
      "source": [
        "!unzip /content/SBA-PPP-Loan-Data/over_150k/foia_150k_plus.csv.zip"
      ],
      "execution_count": 5,
      "outputs": [
        {
          "output_type": "stream",
          "text": [
            "Archive:  /content/SBA-PPP-Loan-Data/over_150k/foia_150k_plus.csv.zip\n",
            "  inflating: foia_150k_plus.csv      \n"
          ],
          "name": "stdout"
        }
      ]
    },
    {
      "cell_type": "code",
      "metadata": {
        "id": "sbScGnm1AMP_",
        "colab_type": "code",
        "colab": {}
      },
      "source": [
        "import pandas as pd\n",
        "import numpy as np\n",
        "import matplotlib.pyplot as plt\n",
        "import matplotlib as mpl\n",
        "\n",
        "def nd(arr):\n",
        "  return np.asarray(arr).reshape(-1)\n",
        "\n",
        "def yex(ax):\n",
        "    lims = [\n",
        "        np.min([ax.get_xlim(), ax.get_ylim()]),  # min of both axes\n",
        "        np.max([ax.get_xlim(), ax.get_ylim()]),  # max of both axes\n",
        "    ]\n",
        "    \n",
        "    # now plot both limits against eachother\n",
        "    ax.plot(lims, lims, 'k-', alpha=0.75, zorder=0)\n",
        "    ax.set_aspect('equal')\n",
        "    ax.set_xlim(lims)\n",
        "    ax.set_ylim(lims)\n",
        "    return ax\n",
        "\n",
        "fsize=20\n",
        "\n",
        "plt.rcParams.update({'font.size': fsize})\n",
        "%config InlineBackend.figure_format = 'retina'"
      ],
      "execution_count": 4,
      "outputs": []
    },
    {
      "cell_type": "markdown",
      "metadata": {
        "id": "QCtaXDq-BMj6",
        "colab_type": "text"
      },
      "source": [
        "# Load data > $150k "
      ]
    },
    {
      "cell_type": "code",
      "metadata": {
        "id": "TJLFnWaiAluq",
        "colab_type": "code",
        "colab": {}
      },
      "source": [
        "df = pd.read_csv(\"/content/foia_150k_plus.csv\")"
      ],
      "execution_count": 7,
      "outputs": []
    },
    {
      "cell_type": "code",
      "metadata": {
        "id": "83JtljP1BAKI",
        "colab_type": "code",
        "colab": {
          "base_uri": "https://localhost:8080/",
          "height": 459
        },
        "outputId": "7d290898-45fb-4e15-c107-f0bfa0afea1b"
      },
      "source": [
        "df.head()"
      ],
      "execution_count": 9,
      "outputs": [
        {
          "output_type": "execute_result",
          "data": {
            "text/html": [
              "<div>\n",
              "<style scoped>\n",
              "    .dataframe tbody tr th:only-of-type {\n",
              "        vertical-align: middle;\n",
              "    }\n",
              "\n",
              "    .dataframe tbody tr th {\n",
              "        vertical-align: top;\n",
              "    }\n",
              "\n",
              "    .dataframe thead th {\n",
              "        text-align: right;\n",
              "    }\n",
              "</style>\n",
              "<table border=\"1\" class=\"dataframe\">\n",
              "  <thead>\n",
              "    <tr style=\"text-align: right;\">\n",
              "      <th></th>\n",
              "      <th>LoanRange</th>\n",
              "      <th>BusinessName</th>\n",
              "      <th>Address</th>\n",
              "      <th>City</th>\n",
              "      <th>State</th>\n",
              "      <th>Zip</th>\n",
              "      <th>NAICSCode</th>\n",
              "      <th>BusinessType</th>\n",
              "      <th>RaceEthnicity</th>\n",
              "      <th>Gender</th>\n",
              "      <th>Veteran</th>\n",
              "      <th>NonProfit</th>\n",
              "      <th>JobsRetained</th>\n",
              "      <th>DateApproved</th>\n",
              "      <th>Lender</th>\n",
              "      <th>CD</th>\n",
              "    </tr>\n",
              "  </thead>\n",
              "  <tbody>\n",
              "    <tr>\n",
              "      <th>0</th>\n",
              "      <td>a $5-10 million</td>\n",
              "      <td>ARCTIC SLOPE NATIVE ASSOCIATION, LTD.</td>\n",
              "      <td>7000 Uula St</td>\n",
              "      <td>BARROW</td>\n",
              "      <td>AK</td>\n",
              "      <td>99723.0</td>\n",
              "      <td>813920.0</td>\n",
              "      <td>Non-Profit Organization</td>\n",
              "      <td>Unanswered</td>\n",
              "      <td>Unanswered</td>\n",
              "      <td>Unanswered</td>\n",
              "      <td>Y</td>\n",
              "      <td>295.0</td>\n",
              "      <td>04/14/2020</td>\n",
              "      <td>National Cooperative Bank, National Association</td>\n",
              "      <td>AK - 00</td>\n",
              "    </tr>\n",
              "    <tr>\n",
              "      <th>1</th>\n",
              "      <td>a $5-10 million</td>\n",
              "      <td>CRUZ CONSTRUCTION INC</td>\n",
              "      <td>7000 East Palmer Wasilla Hwy</td>\n",
              "      <td>PALMER</td>\n",
              "      <td>AK</td>\n",
              "      <td>99645.0</td>\n",
              "      <td>238190.0</td>\n",
              "      <td>Subchapter S Corporation</td>\n",
              "      <td>Unanswered</td>\n",
              "      <td>Unanswered</td>\n",
              "      <td>Unanswered</td>\n",
              "      <td>NaN</td>\n",
              "      <td>215.0</td>\n",
              "      <td>04/15/2020</td>\n",
              "      <td>First National Bank Alaska</td>\n",
              "      <td>AK - 00</td>\n",
              "    </tr>\n",
              "    <tr>\n",
              "      <th>2</th>\n",
              "      <td>a $5-10 million</td>\n",
              "      <td>I. C. E. SERVICES, INC</td>\n",
              "      <td>2606 C Street</td>\n",
              "      <td>ANCHORAGE</td>\n",
              "      <td>AK</td>\n",
              "      <td>99503.0</td>\n",
              "      <td>722310.0</td>\n",
              "      <td>Corporation</td>\n",
              "      <td>Unanswered</td>\n",
              "      <td>Unanswered</td>\n",
              "      <td>Unanswered</td>\n",
              "      <td>NaN</td>\n",
              "      <td>367.0</td>\n",
              "      <td>04/11/2020</td>\n",
              "      <td>KeyBank National Association</td>\n",
              "      <td>AK - 00</td>\n",
              "    </tr>\n",
              "    <tr>\n",
              "      <th>3</th>\n",
              "      <td>a $5-10 million</td>\n",
              "      <td>KATMAI HEALTH SERVICES LLC</td>\n",
              "      <td>11001 O'MALLEY CENTRE DRIVE, SUITE 204</td>\n",
              "      <td>ANCHORAGE</td>\n",
              "      <td>AK</td>\n",
              "      <td>99515.0</td>\n",
              "      <td>621111.0</td>\n",
              "      <td>Limited  Liability Company(LLC)</td>\n",
              "      <td>Unanswered</td>\n",
              "      <td>Unanswered</td>\n",
              "      <td>Unanswered</td>\n",
              "      <td>NaN</td>\n",
              "      <td>0.0</td>\n",
              "      <td>04/29/2020</td>\n",
              "      <td>Truist Bank d/b/a Branch Banking &amp; Trust Co</td>\n",
              "      <td>AK - 00</td>\n",
              "    </tr>\n",
              "    <tr>\n",
              "      <th>4</th>\n",
              "      <td>a $5-10 million</td>\n",
              "      <td>MATANUSKA TELEPHONE ASSOCIATION</td>\n",
              "      <td>1740 S. CHUGACH ST</td>\n",
              "      <td>PALMER</td>\n",
              "      <td>AK</td>\n",
              "      <td>99645.0</td>\n",
              "      <td>517311.0</td>\n",
              "      <td>Cooperative</td>\n",
              "      <td>Unanswered</td>\n",
              "      <td>Unanswered</td>\n",
              "      <td>Unanswered</td>\n",
              "      <td>NaN</td>\n",
              "      <td>267.0</td>\n",
              "      <td>06/10/2020</td>\n",
              "      <td>CoBank ACB</td>\n",
              "      <td>AK - 00</td>\n",
              "    </tr>\n",
              "  </tbody>\n",
              "</table>\n",
              "</div>"
            ],
            "text/plain": [
              "         LoanRange  ...       CD\n",
              "0  a $5-10 million  ...  AK - 00\n",
              "1  a $5-10 million  ...  AK - 00\n",
              "2  a $5-10 million  ...  AK - 00\n",
              "3  a $5-10 million  ...  AK - 00\n",
              "4  a $5-10 million  ...  AK - 00\n",
              "\n",
              "[5 rows x 16 columns]"
            ]
          },
          "metadata": {
            "tags": []
          },
          "execution_count": 9
        }
      ]
    },
    {
      "cell_type": "markdown",
      "metadata": {
        "id": "MVpiy80HBkWG",
        "colab_type": "text"
      },
      "source": [
        "# Load data < $150k (per state)"
      ]
    },
    {
      "cell_type": "code",
      "metadata": {
        "id": "o9JZxQBxBEkK",
        "colab_type": "code",
        "colab": {}
      },
      "source": [
        "fl = pd.read_csv(\"/content/SBA-PPP-Loan-Data/under_150k/Florida/foia_up_to_150k_FL.csv\")"
      ],
      "execution_count": 10,
      "outputs": []
    },
    {
      "cell_type": "code",
      "metadata": {
        "id": "6HeDjuhIBXN5",
        "colab_type": "code",
        "colab": {
          "base_uri": "https://localhost:8080/",
          "height": 289
        },
        "outputId": "32d273a5-71e8-43e7-a8da-0e742caa9670"
      },
      "source": [
        "fl.head()"
      ],
      "execution_count": 11,
      "outputs": [
        {
          "output_type": "execute_result",
          "data": {
            "text/html": [
              "<div>\n",
              "<style scoped>\n",
              "    .dataframe tbody tr th:only-of-type {\n",
              "        vertical-align: middle;\n",
              "    }\n",
              "\n",
              "    .dataframe tbody tr th {\n",
              "        vertical-align: top;\n",
              "    }\n",
              "\n",
              "    .dataframe thead th {\n",
              "        text-align: right;\n",
              "    }\n",
              "</style>\n",
              "<table border=\"1\" class=\"dataframe\">\n",
              "  <thead>\n",
              "    <tr style=\"text-align: right;\">\n",
              "      <th></th>\n",
              "      <th>LoanAmount</th>\n",
              "      <th>City</th>\n",
              "      <th>State</th>\n",
              "      <th>Zip</th>\n",
              "      <th>NAICSCode</th>\n",
              "      <th>BusinessType</th>\n",
              "      <th>RaceEthnicity</th>\n",
              "      <th>Gender</th>\n",
              "      <th>Veteran</th>\n",
              "      <th>NonProfit</th>\n",
              "      <th>JobsRetained</th>\n",
              "      <th>DateApproved</th>\n",
              "      <th>Lender</th>\n",
              "      <th>CD</th>\n",
              "    </tr>\n",
              "  </thead>\n",
              "  <tbody>\n",
              "    <tr>\n",
              "      <th>0</th>\n",
              "      <td>149995.22</td>\n",
              "      <td>PANAMA CITY</td>\n",
              "      <td>FL</td>\n",
              "      <td>32401.0</td>\n",
              "      <td>238220.0</td>\n",
              "      <td>Limited  Liability Company(LLC)</td>\n",
              "      <td>Unanswered</td>\n",
              "      <td>Unanswered</td>\n",
              "      <td>Unanswered</td>\n",
              "      <td>NaN</td>\n",
              "      <td>22.0</td>\n",
              "      <td>04/15/2020</td>\n",
              "      <td>Trustmark National Bank</td>\n",
              "      <td>FL - 02</td>\n",
              "    </tr>\n",
              "    <tr>\n",
              "      <th>1</th>\n",
              "      <td>149994.00</td>\n",
              "      <td>SARASOTA</td>\n",
              "      <td>FL</td>\n",
              "      <td>34236.0</td>\n",
              "      <td>611699.0</td>\n",
              "      <td>Limited  Liability Company(LLC)</td>\n",
              "      <td>Unanswered</td>\n",
              "      <td>Unanswered</td>\n",
              "      <td>Unanswered</td>\n",
              "      <td>NaN</td>\n",
              "      <td>50.0</td>\n",
              "      <td>05/03/2020</td>\n",
              "      <td>Bank of America, National Association</td>\n",
              "      <td>FL - 16</td>\n",
              "    </tr>\n",
              "    <tr>\n",
              "      <th>2</th>\n",
              "      <td>149988.00</td>\n",
              "      <td>PEMBROKE PINES</td>\n",
              "      <td>FL</td>\n",
              "      <td>33332.0</td>\n",
              "      <td>551112.0</td>\n",
              "      <td>Corporation</td>\n",
              "      <td>Unanswered</td>\n",
              "      <td>Male Owned</td>\n",
              "      <td>Non-Veteran</td>\n",
              "      <td>NaN</td>\n",
              "      <td>NaN</td>\n",
              "      <td>05/03/2020</td>\n",
              "      <td>Wells Fargo Bank, National Association</td>\n",
              "      <td>FL - 20</td>\n",
              "    </tr>\n",
              "    <tr>\n",
              "      <th>3</th>\n",
              "      <td>149987.00</td>\n",
              "      <td>MIAMI</td>\n",
              "      <td>FL</td>\n",
              "      <td>33157.0</td>\n",
              "      <td>713990.0</td>\n",
              "      <td>Subchapter S Corporation</td>\n",
              "      <td>Unanswered</td>\n",
              "      <td>Unanswered</td>\n",
              "      <td>Unanswered</td>\n",
              "      <td>NaN</td>\n",
              "      <td>10.0</td>\n",
              "      <td>06/26/2020</td>\n",
              "      <td>WebBank</td>\n",
              "      <td>FL - 26</td>\n",
              "    </tr>\n",
              "    <tr>\n",
              "      <th>4</th>\n",
              "      <td>149987.00</td>\n",
              "      <td>MIAMI</td>\n",
              "      <td>FL</td>\n",
              "      <td>33187.0</td>\n",
              "      <td>236220.0</td>\n",
              "      <td>Limited  Liability Company(LLC)</td>\n",
              "      <td>Unanswered</td>\n",
              "      <td>Unanswered</td>\n",
              "      <td>Unanswered</td>\n",
              "      <td>NaN</td>\n",
              "      <td>9.0</td>\n",
              "      <td>06/18/2020</td>\n",
              "      <td>JPMorgan Chase Bank, National Association</td>\n",
              "      <td>FL - 26</td>\n",
              "    </tr>\n",
              "  </tbody>\n",
              "</table>\n",
              "</div>"
            ],
            "text/plain": [
              "   LoanAmount  ...       CD\n",
              "0   149995.22  ...  FL - 02\n",
              "1   149994.00  ...  FL - 16\n",
              "2   149988.00  ...  FL - 20\n",
              "3   149987.00  ...  FL - 26\n",
              "4   149987.00  ...  FL - 26\n",
              "\n",
              "[5 rows x 14 columns]"
            ]
          },
          "metadata": {
            "tags": []
          },
          "execution_count": 11
        }
      ]
    },
    {
      "cell_type": "code",
      "metadata": {
        "id": "tgyaE1GjBby2",
        "colab_type": "code",
        "colab": {}
      },
      "source": [
        ""
      ],
      "execution_count": null,
      "outputs": []
    }
  ]
}